{
 "cells": [
  {
   "cell_type": "code",
   "execution_count": 1,
   "metadata": {},
   "outputs": [],
   "source": [
    "\n",
    "import cv2\n",
    "import numpy as np\n",
    "\n",
    "# runPipeline() is called every frame by Limelight's backend.\n",
    "def runPipeline(image, llrobot):\n",
    "    # convert the input image to the HSV color space\n",
    "    img_hsv = cv2.cvtColor(image, cv2.COLOR_BGR2HSV)\n",
    "    # convert the hsv to a binary image by removing any pixels \n",
    "    # that do not fall within the following HSV Min/Max values\n",
    "    img_threshold = cv2.inRange(img_hsv, (60, 70, 70), (85, 255, 255))\n",
    "\n",
    "    # find contours in the new binary image\n",
    "    contours, _ = cv2.findContours(img_threshold, \n",
    "    cv2.RETR_EXTERNAL, cv2.CHAIN_APPROX_SIMPLE)\n",
    "\n",
    "    largestContour = np.array([[]])\n",
    "\n",
    "    # initialize an empty array of values to send back to the robot\n",
    "    llpython = [0,0,0,0,0,0,0,0]\n",
    "\n",
    "    # if contours have been detected, draw them \n",
    "    if len(contours) > 0:\n",
    "        cv2.drawContours(image, contours, -1, 255, 2)\n",
    "        # record the largest contour\n",
    "        largestContour = max(contours, key=cv2.contourArea)\n",
    "\n",
    "        # get the unrotated bounding box that surrounds the contour\n",
    "        x,y,w,h = cv2.boundingRect(largestContour)\n",
    "\n",
    "        # draw the unrotated bounding box\n",
    "        cv2.rectangle(image,(x,y),(x+w,y+h),(0,255,255),2)\n",
    "\n",
    "        # record some custom data to send back to the robot\n",
    "        llpython = [1,x,y,w,h,9,8,7]  \n",
    "\n",
    "    #return the largest contour for the LL crosshair, the modified image, and custom robot data\n",
    "    return largestContour, image, llpython"
   ]
  },
  {
   "cell_type": "code",
   "execution_count": 2,
   "metadata": {},
   "outputs": [
    {
     "ename": "TypeError",
     "evalue": "runPipeline() missing 2 required positional arguments: 'image' and 'llrobot'",
     "output_type": "error",
     "traceback": [
      "\u001b[0;31m---------------------------------------------------------------------------\u001b[0m",
      "\u001b[0;31mTypeError\u001b[0m                                 Traceback (most recent call last)",
      "Cell \u001b[0;32mIn[2], line 1\u001b[0m\n\u001b[0;32m----> 1\u001b[0m \u001b[43mrunPipeline\u001b[49m\u001b[43m(\u001b[49m\u001b[43m)\u001b[49m\n",
      "\u001b[0;31mTypeError\u001b[0m: runPipeline() missing 2 required positional arguments: 'image' and 'llrobot'"
     ]
    }
   ],
   "source": [
    "runPipeline()"
   ]
  },
  {
   "cell_type": "code",
   "execution_count": null,
   "metadata": {},
   "outputs": [],
   "source": []
  }
 ],
 "metadata": {
  "kernelspec": {
   "display_name": "usr",
   "language": "python",
   "name": "python3"
  },
  "language_info": {
   "codemirror_mode": {
    "name": "ipython",
    "version": 3
   },
   "file_extension": ".py",
   "mimetype": "text/x-python",
   "name": "python",
   "nbconvert_exporter": "python",
   "pygments_lexer": "ipython3",
   "version": "3.10.12"
  }
 },
 "nbformat": 4,
 "nbformat_minor": 2
}
