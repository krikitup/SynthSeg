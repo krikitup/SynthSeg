{
 "cells": [
  {
   "cell_type": "markdown",
   "metadata": {},
   "source": [
    "# Import Required Libraries\n",
    "Import the necessary libraries, including h5py and numpy."
   ]
  },
  {
   "cell_type": "code",
   "execution_count": 9,
   "metadata": {},
   "outputs": [],
   "source": [
    "# Import Required Libraries\n",
    "import pandas as pd\n",
    "import h5py\n",
    "import numpy as np\n",
    "import nibabel as nib\n",
    "# h5py is used for handling HDF5 files\n",
    "# numpy is used for numerical operations"
   ]
  },
  {
   "cell_type": "markdown",
   "metadata": {},
   "source": [
    "# Load h5 File\n",
    "Use h5py to load an h5 file from a specified path."
   ]
  },
  {
   "cell_type": "code",
   "execution_count": 6,
   "metadata": {},
   "outputs": [
    {
     "name": "stdout",
     "output_type": "stream",
     "text": [
      "image\n",
      "mask\n",
      "Image shape: (240, 240, 4)\n",
      "Mask shape: (240, 240, 3)\n"
     ]
    }
   ],
   "source": [
    "# Load h5 File\n",
    "file_path = 'data/BraTS2020_training_data/content/data/volume_1_slice_0.h5'  # specify the path to your h5 file\n",
    "\n",
    "# Open the h5 file in read mode\n",
    "with h5py.File(file_path, 'r') as h5_file:\n",
    "    # Explore the structure of the H5 file\n",
    "    def print_structure(name, obj):\n",
    "        print(name)\n",
    "    h5_file.visititems(print_structure)\n",
    "    \n",
    "    # Access the 'image' dataset\n",
    "    if 'image' in h5_file:\n",
    "        image_data = h5_file['image']\n",
    "        print(\"Image shape:\", image_data.shape)\n",
    "    else:\n",
    "        print(\"Dataset 'image' not found in the file.\")\n",
    "    \n",
    "    # Access the 'mask' dataset\n",
    "    if 'mask' in h5_file:\n",
    "        mask_data = h5_file['mask']\n",
    "        print(\"Mask shape:\", mask_data.shape)\n",
    "    else:\n",
    "        print(\"Dataset 'mask' not found in the file.\")"
   ]
  },
  {
   "cell_type": "code",
   "execution_count": 10,
   "metadata": {},
   "outputs": [
    {
     "ename": "FileNotFoundError",
     "evalue": "[Errno 2] No such file or directory: 'data/Brats/volume_1_type1.nii.gz'",
     "output_type": "error",
     "traceback": [
      "\u001b[0;31m---------------------------------------------------------------------------\u001b[0m",
      "\u001b[0;31mFileNotFoundError\u001b[0m                         Traceback (most recent call last)",
      "Cell \u001b[0;32mIn[10], line 35\u001b[0m\n\u001b[1;32m     33\u001b[0m     image_nii \u001b[38;5;241m=\u001b[39m nib\u001b[38;5;241m.\u001b[39mNifti1Image(image_volumes[\u001b[38;5;241m.\u001b[39m\u001b[38;5;241m.\u001b[39m\u001b[38;5;241m.\u001b[39m, i], np\u001b[38;5;241m.\u001b[39meye(\u001b[38;5;241m4\u001b[39m))\n\u001b[1;32m     34\u001b[0m     image_nii_path \u001b[38;5;241m=\u001b[39m \u001b[38;5;124mf\u001b[39m\u001b[38;5;124m'\u001b[39m\u001b[38;5;124mdata/Brats/volume_\u001b[39m\u001b[38;5;132;01m{\u001b[39;00mvolume_id\u001b[38;5;132;01m}\u001b[39;00m\u001b[38;5;124m_\u001b[39m\u001b[38;5;132;01m{\u001b[39;00mmri_type\u001b[38;5;132;01m}\u001b[39;00m\u001b[38;5;124m.nii.gz\u001b[39m\u001b[38;5;124m'\u001b[39m\n\u001b[0;32m---> 35\u001b[0m     \u001b[43mnib\u001b[49m\u001b[38;5;241;43m.\u001b[39;49m\u001b[43msave\u001b[49m\u001b[43m(\u001b[49m\u001b[43mimage_nii\u001b[49m\u001b[43m,\u001b[49m\u001b[43m \u001b[49m\u001b[43mimage_nii_path\u001b[49m\u001b[43m)\u001b[49m\n\u001b[1;32m     36\u001b[0m     \u001b[38;5;28mprint\u001b[39m(\u001b[38;5;124mf\u001b[39m\u001b[38;5;124m'\u001b[39m\u001b[38;5;124mSaved \u001b[39m\u001b[38;5;132;01m{\u001b[39;00mimage_nii_path\u001b[38;5;132;01m}\u001b[39;00m\u001b[38;5;124m'\u001b[39m)\n\u001b[1;32m     38\u001b[0m \u001b[38;5;28;01mfor\u001b[39;00m j, mask_type \u001b[38;5;129;01min\u001b[39;00m \u001b[38;5;28menumerate\u001b[39m(mask_types):\n",
      "File \u001b[0;32m~/miniconda3/envs/synthseg/lib/python3.8/site-packages/nibabel/loadsave.py:163\u001b[0m, in \u001b[0;36msave\u001b[0;34m(img, filename, **kwargs)\u001b[0m\n\u001b[1;32m    161\u001b[0m \u001b[38;5;66;03m# Save the type as expected\u001b[39;00m\n\u001b[1;32m    162\u001b[0m \u001b[38;5;28;01mtry\u001b[39;00m:\n\u001b[0;32m--> 163\u001b[0m     \u001b[43mimg\u001b[49m\u001b[38;5;241;43m.\u001b[39;49m\u001b[43mto_filename\u001b[49m\u001b[43m(\u001b[49m\u001b[43mfilename\u001b[49m\u001b[43m,\u001b[49m\u001b[43m \u001b[49m\u001b[38;5;241;43m*\u001b[39;49m\u001b[38;5;241;43m*\u001b[39;49m\u001b[43mkwargs\u001b[49m\u001b[43m)\u001b[49m\n\u001b[1;32m    164\u001b[0m \u001b[38;5;28;01mexcept\u001b[39;00m ImageFileError:\n\u001b[1;32m    165\u001b[0m     \u001b[38;5;28;01mpass\u001b[39;00m\n",
      "File \u001b[0;32m~/miniconda3/envs/synthseg/lib/python3.8/site-packages/nibabel/filebasedimages.py:307\u001b[0m, in \u001b[0;36mFileBasedImage.to_filename\u001b[0;34m(self, filename, **kwargs)\u001b[0m\n\u001b[1;32m    291\u001b[0m \u001b[38;5;250m\u001b[39m\u001b[38;5;124mr\u001b[39m\u001b[38;5;124;03m\"\"\"Write image to files implied by filename string\u001b[39;00m\n\u001b[1;32m    292\u001b[0m \n\u001b[1;32m    293\u001b[0m \u001b[38;5;124;03mParameters\u001b[39;00m\n\u001b[0;32m   (...)\u001b[0m\n\u001b[1;32m    304\u001b[0m \u001b[38;5;124;03mNone\u001b[39;00m\n\u001b[1;32m    305\u001b[0m \u001b[38;5;124;03m\"\"\"\u001b[39;00m\n\u001b[1;32m    306\u001b[0m \u001b[38;5;28mself\u001b[39m\u001b[38;5;241m.\u001b[39mfile_map \u001b[38;5;241m=\u001b[39m \u001b[38;5;28mself\u001b[39m\u001b[38;5;241m.\u001b[39mfilespec_to_file_map(filename)\n\u001b[0;32m--> 307\u001b[0m \u001b[38;5;28;43mself\u001b[39;49m\u001b[38;5;241;43m.\u001b[39;49m\u001b[43mto_file_map\u001b[49m\u001b[43m(\u001b[49m\u001b[38;5;241;43m*\u001b[39;49m\u001b[38;5;241;43m*\u001b[39;49m\u001b[43mkwargs\u001b[49m\u001b[43m)\u001b[49m\n",
      "File \u001b[0;32m~/miniconda3/envs/synthseg/lib/python3.8/site-packages/nibabel/nifti1.py:2219\u001b[0m, in \u001b[0;36mNifti1Pair.to_file_map\u001b[0;34m(self, file_map, dtype)\u001b[0m\n\u001b[1;32m   2217\u001b[0m \u001b[38;5;28mself\u001b[39m\u001b[38;5;241m.\u001b[39mget_data_dtype(finalize\u001b[38;5;241m=\u001b[39m\u001b[38;5;28;01mTrue\u001b[39;00m)\n\u001b[1;32m   2218\u001b[0m \u001b[38;5;28;01mtry\u001b[39;00m:\n\u001b[0;32m-> 2219\u001b[0m     \u001b[38;5;28;43msuper\u001b[39;49m\u001b[43m(\u001b[49m\u001b[43m)\u001b[49m\u001b[38;5;241;43m.\u001b[39;49m\u001b[43mto_file_map\u001b[49m\u001b[43m(\u001b[49m\u001b[43mfile_map\u001b[49m\u001b[43m,\u001b[49m\u001b[43m \u001b[49m\u001b[43mdtype\u001b[49m\u001b[43m)\u001b[49m\n\u001b[1;32m   2220\u001b[0m \u001b[38;5;28;01mfinally\u001b[39;00m:\n\u001b[1;32m   2221\u001b[0m     \u001b[38;5;28mself\u001b[39m\u001b[38;5;241m.\u001b[39mset_data_dtype(img_dtype)\n",
      "File \u001b[0;32m~/miniconda3/envs/synthseg/lib/python3.8/site-packages/nibabel/analyze.py:1037\u001b[0m, in \u001b[0;36mAnalyzeImage.to_file_map\u001b[0;34m(self, file_map, dtype)\u001b[0m\n\u001b[1;32m   1033\u001b[0m \u001b[38;5;66;03m# Check if hdr and img refer to same file; this can happen with odd\u001b[39;00m\n\u001b[1;32m   1034\u001b[0m \u001b[38;5;66;03m# analyze images but most often this is because it's a single nifti\u001b[39;00m\n\u001b[1;32m   1035\u001b[0m \u001b[38;5;66;03m# file\u001b[39;00m\n\u001b[1;32m   1036\u001b[0m hdr_img_same \u001b[38;5;241m=\u001b[39m hdr_fh\u001b[38;5;241m.\u001b[39msame_file_as(img_fh)\n\u001b[0;32m-> 1037\u001b[0m hdrf \u001b[38;5;241m=\u001b[39m \u001b[43mhdr_fh\u001b[49m\u001b[38;5;241;43m.\u001b[39;49m\u001b[43mget_prepare_fileobj\u001b[49m\u001b[43m(\u001b[49m\u001b[43mmode\u001b[49m\u001b[38;5;241;43m=\u001b[39;49m\u001b[38;5;124;43m'\u001b[39;49m\u001b[38;5;124;43mwb\u001b[39;49m\u001b[38;5;124;43m'\u001b[39;49m\u001b[43m)\u001b[49m\n\u001b[1;32m   1038\u001b[0m \u001b[38;5;28;01mif\u001b[39;00m hdr_img_same:\n\u001b[1;32m   1039\u001b[0m     imgf \u001b[38;5;241m=\u001b[39m hdrf\n",
      "File \u001b[0;32m~/miniconda3/envs/synthseg/lib/python3.8/site-packages/nibabel/fileholders.py:74\u001b[0m, in \u001b[0;36mFileHolder.get_prepare_fileobj\u001b[0;34m(self, *args, **kwargs)\u001b[0m\n\u001b[1;32m     72\u001b[0m     obj\u001b[38;5;241m.\u001b[39mseek(\u001b[38;5;28mself\u001b[39m\u001b[38;5;241m.\u001b[39mpos)\n\u001b[1;32m     73\u001b[0m \u001b[38;5;28;01melif\u001b[39;00m \u001b[38;5;28mself\u001b[39m\u001b[38;5;241m.\u001b[39mfilename \u001b[38;5;129;01mis\u001b[39;00m \u001b[38;5;129;01mnot\u001b[39;00m \u001b[38;5;28;01mNone\u001b[39;00m:\n\u001b[0;32m---> 74\u001b[0m     obj \u001b[38;5;241m=\u001b[39m \u001b[43mImageOpener\u001b[49m\u001b[43m(\u001b[49m\u001b[38;5;28;43mself\u001b[39;49m\u001b[38;5;241;43m.\u001b[39;49m\u001b[43mfilename\u001b[49m\u001b[43m,\u001b[49m\u001b[43m \u001b[49m\u001b[38;5;241;43m*\u001b[39;49m\u001b[43margs\u001b[49m\u001b[43m,\u001b[49m\u001b[43m \u001b[49m\u001b[38;5;241;43m*\u001b[39;49m\u001b[38;5;241;43m*\u001b[39;49m\u001b[43mkwargs\u001b[49m\u001b[43m)\u001b[49m\n\u001b[1;32m     75\u001b[0m     \u001b[38;5;28;01mif\u001b[39;00m \u001b[38;5;28mself\u001b[39m\u001b[38;5;241m.\u001b[39mpos \u001b[38;5;241m!=\u001b[39m \u001b[38;5;241m0\u001b[39m:\n\u001b[1;32m     76\u001b[0m         obj\u001b[38;5;241m.\u001b[39mseek(\u001b[38;5;28mself\u001b[39m\u001b[38;5;241m.\u001b[39mpos)\n",
      "File \u001b[0;32m~/miniconda3/envs/synthseg/lib/python3.8/site-packages/nibabel/openers.py:182\u001b[0m, in \u001b[0;36mOpener.__init__\u001b[0;34m(self, fileish, *args, **kwargs)\u001b[0m\n\u001b[1;32m    179\u001b[0m \u001b[38;5;66;03m# Clear keep_open hint if it is not relevant for the file type\u001b[39;00m\n\u001b[1;32m    180\u001b[0m \u001b[38;5;28;01melse\u001b[39;00m:\n\u001b[1;32m    181\u001b[0m     kwargs\u001b[38;5;241m.\u001b[39mpop(\u001b[38;5;124m'\u001b[39m\u001b[38;5;124mkeep_open\u001b[39m\u001b[38;5;124m'\u001b[39m, \u001b[38;5;28;01mNone\u001b[39;00m)\n\u001b[0;32m--> 182\u001b[0m \u001b[38;5;28mself\u001b[39m\u001b[38;5;241m.\u001b[39mfobj \u001b[38;5;241m=\u001b[39m \u001b[43mopener\u001b[49m\u001b[43m(\u001b[49m\u001b[43mfileish\u001b[49m\u001b[43m,\u001b[49m\u001b[43m \u001b[49m\u001b[38;5;241;43m*\u001b[39;49m\u001b[43margs\u001b[49m\u001b[43m,\u001b[49m\u001b[43m \u001b[49m\u001b[38;5;241;43m*\u001b[39;49m\u001b[38;5;241;43m*\u001b[39;49m\u001b[43mkwargs\u001b[49m\u001b[43m)\u001b[49m\n\u001b[1;32m    183\u001b[0m \u001b[38;5;28mself\u001b[39m\u001b[38;5;241m.\u001b[39m_name \u001b[38;5;241m=\u001b[39m fileish\n\u001b[1;32m    184\u001b[0m \u001b[38;5;28mself\u001b[39m\u001b[38;5;241m.\u001b[39mme_opened \u001b[38;5;241m=\u001b[39m \u001b[38;5;28;01mTrue\u001b[39;00m\n",
      "File \u001b[0;32m~/miniconda3/envs/synthseg/lib/python3.8/site-packages/nibabel/openers.py:91\u001b[0m, in \u001b[0;36m_gzip_open\u001b[0;34m(filename, mode, compresslevel, mtime, keep_open)\u001b[0m\n\u001b[1;32m     82\u001b[0m \u001b[38;5;28;01mdef\u001b[39;00m \u001b[38;5;21m_gzip_open\u001b[39m(\n\u001b[1;32m     83\u001b[0m     filename: \u001b[38;5;28mstr\u001b[39m,\n\u001b[1;32m     84\u001b[0m     mode: Mode \u001b[38;5;241m=\u001b[39m \u001b[38;5;124m'\u001b[39m\u001b[38;5;124mrb\u001b[39m\u001b[38;5;124m'\u001b[39m,\n\u001b[0;32m   (...)\u001b[0m\n\u001b[1;32m     87\u001b[0m     keep_open: \u001b[38;5;28mbool\u001b[39m \u001b[38;5;241m=\u001b[39m \u001b[38;5;28;01mFalse\u001b[39;00m,\n\u001b[1;32m     88\u001b[0m ) \u001b[38;5;241m-\u001b[39m\u001b[38;5;241m>\u001b[39m gzip\u001b[38;5;241m.\u001b[39mGzipFile:\n\u001b[1;32m     90\u001b[0m     \u001b[38;5;28;01mif\u001b[39;00m \u001b[38;5;129;01mnot\u001b[39;00m HAVE_INDEXED_GZIP \u001b[38;5;129;01mor\u001b[39;00m mode \u001b[38;5;241m!=\u001b[39m \u001b[38;5;124m'\u001b[39m\u001b[38;5;124mrb\u001b[39m\u001b[38;5;124m'\u001b[39m:\n\u001b[0;32m---> 91\u001b[0m         gzip_file \u001b[38;5;241m=\u001b[39m \u001b[43mDeterministicGzipFile\u001b[49m\u001b[43m(\u001b[49m\u001b[43mfilename\u001b[49m\u001b[43m,\u001b[49m\u001b[43m \u001b[49m\u001b[43mmode\u001b[49m\u001b[43m,\u001b[49m\u001b[43m \u001b[49m\u001b[43mcompresslevel\u001b[49m\u001b[43m,\u001b[49m\u001b[43m \u001b[49m\u001b[43mmtime\u001b[49m\u001b[38;5;241;43m=\u001b[39;49m\u001b[43mmtime\u001b[49m\u001b[43m)\u001b[49m\n\u001b[1;32m     93\u001b[0m     \u001b[38;5;66;03m# use indexed_gzip if possible for faster read access.  If keep_open ==\u001b[39;00m\n\u001b[1;32m     94\u001b[0m     \u001b[38;5;66;03m# True, we tell IndexedGzipFile to keep the file handle open. Otherwise\u001b[39;00m\n\u001b[1;32m     95\u001b[0m     \u001b[38;5;66;03m# the IndexedGzipFile will close/open the file on each read.\u001b[39;00m\n\u001b[1;32m     96\u001b[0m     \u001b[38;5;28;01melse\u001b[39;00m:\n\u001b[1;32m     97\u001b[0m         gzip_file \u001b[38;5;241m=\u001b[39m IndexedGzipFile(filename, drop_handles\u001b[38;5;241m=\u001b[39m\u001b[38;5;129;01mnot\u001b[39;00m keep_open)\n",
      "File \u001b[0;32m~/miniconda3/envs/synthseg/lib/python3.8/site-packages/nibabel/openers.py:72\u001b[0m, in \u001b[0;36mDeterministicGzipFile.__init__\u001b[0;34m(self, filename, mode, compresslevel, fileobj, mtime)\u001b[0m\n\u001b[1;32m     70\u001b[0m         \u001b[38;5;28;01mraise\u001b[39;00m \u001b[38;5;167;01mTypeError\u001b[39;00m(\u001b[38;5;124m'\u001b[39m\u001b[38;5;124mMust define either fileobj or filename\u001b[39m\u001b[38;5;124m'\u001b[39m)\n\u001b[1;32m     71\u001b[0m     \u001b[38;5;66;03m# Cast because GzipFile.myfileobj has type io.FileIO while open returns ty.IO\u001b[39;00m\n\u001b[0;32m---> 72\u001b[0m     fileobj \u001b[38;5;241m=\u001b[39m \u001b[38;5;28mself\u001b[39m\u001b[38;5;241m.\u001b[39mmyfileobj \u001b[38;5;241m=\u001b[39m ty\u001b[38;5;241m.\u001b[39mcast(io\u001b[38;5;241m.\u001b[39mFileIO, \u001b[38;5;28;43mopen\u001b[39;49m\u001b[43m(\u001b[49m\u001b[43mfilename\u001b[49m\u001b[43m,\u001b[49m\u001b[43m \u001b[49m\u001b[43mmodestr\u001b[49m\u001b[43m)\u001b[49m)\n\u001b[1;32m     73\u001b[0m \u001b[38;5;28;01mreturn\u001b[39;00m \u001b[38;5;28msuper\u001b[39m()\u001b[38;5;241m.\u001b[39m\u001b[38;5;21m__init__\u001b[39m(\n\u001b[1;32m     74\u001b[0m     filename\u001b[38;5;241m=\u001b[39m\u001b[38;5;124m'\u001b[39m\u001b[38;5;124m'\u001b[39m,\n\u001b[1;32m     75\u001b[0m     mode\u001b[38;5;241m=\u001b[39mmodestr,\n\u001b[0;32m   (...)\u001b[0m\n\u001b[1;32m     78\u001b[0m     mtime\u001b[38;5;241m=\u001b[39mmtime,\n\u001b[1;32m     79\u001b[0m )\n",
      "\u001b[0;31mFileNotFoundError\u001b[0m: [Errno 2] No such file or directory: 'data/Brats/volume_1_type1.nii.gz'"
     ]
    }
   ],
   "source": [
    "\n",
    "# Load the CSV file\n",
    "csv_path = 'data/BraTS2020_training_data/content/data/meta_data.csv'\n",
    "df = pd.read_csv(csv_path)\n",
    "\n",
    "# Group by volume to process each volume separately\n",
    "grouped = df.groupby('volume')\n",
    "\n",
    "for volume_id, group in grouped:\n",
    "    # Initialize lists to store image and mask slices\n",
    "    image_slices = []\n",
    "    mask_slices = []\n",
    "\n",
    "    for _, row in group.iterrows():\n",
    "        h5_path = \"data/BraTS2020_training_data\" + row['slice_path']\n",
    "        \n",
    "        with h5py.File(h5_path, 'r') as h5_file:\n",
    "            # Assuming the datasets are named 'image' and 'mask'\n",
    "            image_slices.append(h5_file['image'][:])\n",
    "            mask_slices.append(h5_file['mask'][:])\n",
    "    # Stack slices to form 3D volumes\n",
    "    image_slices = np.array(image_slices)  # shape (num_slices, h, w, 4)\n",
    "    mask_slices = np.array(mask_slices)    # shape (num_slices, h, w, 3)\n",
    "    \n",
    "    # Transpose to get shape (h, w, num_slices, 4) for images and (h, w, num_slices, 3) for masks\n",
    "    image_volumes = np.transpose(image_slices, (1, 2, 0, 3))\n",
    "    mask_volumes = np.transpose(mask_slices, (1, 2, 0, 3))\n",
    "    \n",
    "    # Save each MRI type and mask type as separate NIfTI images\n",
    "    mri_types = ['type1', 'type2', 'type3', 'type4']\n",
    "    mask_types = ['mask1', 'mask2', 'mask3']\n",
    "    \n",
    "    for i, mri_type in enumerate(mri_types):\n",
    "        image_nii = nib.Nifti1Image(image_volumes[..., i], np.eye(4))\n",
    "        image_nii_path = f'data/Brats/volume_{volume_id}_{mri_type}.nii.gz'\n",
    "        nib.save(image_nii, image_nii_path)\n",
    "        print(f'Saved {image_nii_path}')\n",
    "    \n",
    "    for j, mask_type in enumerate(mask_types):\n",
    "        mask_nii = nib.Nifti1Image(mask_volumes[..., j], np.eye(4))\n",
    "        mask_nii_path = f'data/Brats/volume_{volume_id}_{mask_type}.nii.gz'\n",
    "        nib.save(mask_nii, mask_nii_path)\n",
    "        print(f'Saved {mask_nii_path}')\n"
   ]
  },
  {
   "cell_type": "markdown",
   "metadata": {},
   "source": [
    "# Explore h5 File Structure\n",
    "Explore the structure of the h5 file, including groups and datasets."
   ]
  },
  {
   "cell_type": "code",
   "execution_count": null,
   "metadata": {},
   "outputs": [],
   "source": [
    "# Explore h5 File Structure\n",
    "\n",
    "# Open the h5 file in read mode\n",
    "with h5py.File(file_path, 'r') as h5_file:\n",
    "    # Function to recursively explore the structure of the h5 file\n",
    "    def explore_h5_structure(name, obj):\n",
    "        if isinstance(obj, h5py.Group):\n",
    "            print(f\"Group: {name}\")\n",
    "        elif isinstance(obj, h5py.Dataset):\n",
    "            print(f\"Dataset: {name}, shape: {obj.shape}, dtype: {obj.dtype}\")\n",
    "\n",
    "    # Visit all items in the file\n",
    "    h5_file.visititems(explore_h5_structure)"
   ]
  },
  {
   "cell_type": "markdown",
   "metadata": {},
   "source": [
    "# Extract Data from h5 File\n",
    "Extract specific datasets from the h5 file and convert them to numpy arrays for further analysis."
   ]
  },
  {
   "cell_type": "code",
   "execution_count": null,
   "metadata": {},
   "outputs": [],
   "source": [
    "# Extract Data from h5 File\n",
    "\n",
    "# Open the h5 file in read mode\n",
    "with h5py.File(file_path, 'r') as h5_file:\n",
    "    # Extract specific datasets\n",
    "    dataset_1 = h5_file['dataset_1'][:]  # replace 'dataset_1' with your actual dataset name\n",
    "    dataset_2 = h5_file['dataset_2'][:]  # replace 'dataset_2' with your actual dataset name\n",
    "\n",
    "# Convert datasets to numpy arrays\n",
    "array_1 = np.array(dataset_1)\n",
    "array_2 = np.array(dataset_2)\n",
    "\n",
    "# Display the extracted data\n",
    "print(\"Dataset 1:\", array_1)\n",
    "print(\"Dataset 2:\", array_2)"
   ]
  }
 ],
 "metadata": {
  "kernelspec": {
   "display_name": "synthseg",
   "language": "python",
   "name": "python3"
  },
  "language_info": {
   "codemirror_mode": {
    "name": "ipython",
    "version": 3
   },
   "file_extension": ".py",
   "mimetype": "text/x-python",
   "name": "python",
   "nbconvert_exporter": "python",
   "pygments_lexer": "ipython3",
   "version": "3.8.20"
  }
 },
 "nbformat": 4,
 "nbformat_minor": 2
}
